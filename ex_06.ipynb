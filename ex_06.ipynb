{
  "cells": [
    {
      "cell_type": "markdown",
      "metadata": {
        "id": "view-in-github",
        "colab_type": "text"
      },
      "source": [
        "<a href=\"https://colab.research.google.com/github/Adithya-Siddam/WDM_EXP6/blob/main/ex_06.ipynb\" target=\"_parent\"><img src=\"https://colab.research.google.com/assets/colab-badge.svg\" alt=\"Open In Colab\"/></a>"
      ]
    },
    {
      "cell_type": "markdown",
      "metadata": {
        "id": "Bj9JUdXbOqNz"
      },
      "source": [
        "Name : S Adithya Chowdary\n",
        "\n",
        "Register number: 212221230100\n"
      ]
    },
    {
      "cell_type": "code",
      "source": [
        "import nltk\n",
        "nltk.download('punkt')\n",
        "nltk.download('stopwords')\n",
        "\n",
        "from sklearn.feature_extraction.text import TfidfVectorizer\n",
        "from sklearn.metrics.pairwise import cosine_similarity\n",
        "from nltk.tokenize import word_tokenize\n",
        "from nltk.corpus import stopwords\n",
        "import string\n",
        "\n",
        "# Sample documents\n",
        "documents = [\n",
        "    \"This is the first document.\",\n",
        "    \"This document is the second document.\",\n",
        "    \"And this is the third one.\",\n",
        "    \"Is this the first document?\",\n",
        "]\n",
        "\n",
        "# Preprocessing function to tokenize and remove stopwords/punctuation\n",
        "def preprocess_text(text):\n",
        "    tokens = word_tokenize(text.lower())\n",
        "    tokens = [token for token in tokens if token not in stopwords.words(\"english\") and token not in string.punctuation]\n",
        "    return \" \".join(tokens)\n",
        "    print(tokens)\n",
        "\n",
        "# Preprocess documents\n",
        "preprocessed_docs = [preprocess_text(doc) for doc in documents]\n",
        "\n",
        "# Construct TF-IDF matrix\n",
        "tfidf_vectorizer = TfidfVectorizer()\n",
        "tfidf_matrix = tfidf_vectorizer.fit_transform(preprocessed_docs)\n",
        "\n",
        "\n",
        "# Calculate cosine similarity between query and documents\n",
        "def search(query, tfidf_matrix, tfidf_vectorizer):\n",
        "    preprocessed_query = preprocess_text(query)\n",
        "    query_vector = tfidf_vectorizer.transform([preprocessed_query])\n",
        "\n",
        "    # Calculate cosine similarity between query and documents\n",
        "    similarity_scores = cosine_similarity(query_vector, tfidf_matrix)\n",
        "\n",
        "    # Sort documents based on similarity scores\n",
        "    sorted_indexes = similarity_scores.argsort()[0][::-1]\n",
        "\n",
        "    # Return sorted documents along with their similarity scores\n",
        "    results = [(documents[i], similarity_scores[0, i]) for i in sorted_indexes]\n",
        "    return results\n",
        "\n",
        "# Example query\n",
        "query = \"This is the second document.\"\n",
        "\n",
        "# Perform search\n",
        "search_results = search(query, tfidf_matrix, tfidf_vectorizer)\n",
        "\n",
        "# Display search results\n",
        "i=1\n",
        "print(\"Query:\", query)\n",
        "for result in search_results:\n",
        "    print(\"Rank:\",i)\n",
        "    print(\"Document:\", result[0])\n",
        "    print(\"Similarity Score:\", result[1])\n",
        "    print(\"----------------------\")\n",
        "    i=i+1\n",
        "    x=result[1]\n",
        "for result in search_results:\n",
        "    if(result[1]>=x):\n",
        "      x=result[1]\n",
        "print(\"The high rank cosine score is\",x)\n"
      ],
      "metadata": {
        "colab": {
          "base_uri": "https://localhost:8080/"
        },
        "id": "SKljMqjtdonu",
        "outputId": "b5d24afb-8f64-4696-e9be-67f37b30614f"
      },
      "execution_count": 1,
      "outputs": [
        {
          "output_type": "stream",
          "name": "stderr",
          "text": [
            "[nltk_data] Downloading package punkt to /root/nltk_data...\n",
            "[nltk_data]   Unzipping tokenizers/punkt.zip.\n"
          ]
        },
        {
          "output_type": "stream",
          "name": "stdout",
          "text": [
            "Query: This is the second document.\n",
            "Rank: 1\n",
            "Document: This document is the second document.\n",
            "Similarity Score: 0.943354856790084\n",
            "----------------------\n",
            "Rank: 2\n",
            "Document: Is this the first document?\n",
            "Similarity Score: 0.338542631049127\n",
            "----------------------\n",
            "Rank: 3\n",
            "Document: This is the first document.\n",
            "Similarity Score: 0.338542631049127\n",
            "----------------------\n",
            "Rank: 4\n",
            "Document: And this is the third one.\n",
            "Similarity Score: 0.0\n",
            "----------------------\n",
            "The high rank cosine score is 0.943354856790084\n"
          ]
        },
        {
          "output_type": "stream",
          "name": "stderr",
          "text": [
            "[nltk_data] Downloading package stopwords to /root/nltk_data...\n",
            "[nltk_data]   Unzipping corpora/stopwords.zip.\n"
          ]
        }
      ]
    },
    {
      "cell_type": "code",
      "source": [],
      "metadata": {
        "id": "D7yI3B_QdqDK"
      },
      "execution_count": null,
      "outputs": []
    }
  ],
  "metadata": {
    "colab": {
      "provenance": [],
      "authorship_tag": "ABX9TyNuxUhDJgtBDgM8Pilo2Kq2",
      "include_colab_link": true
    },
    "kernelspec": {
      "display_name": "Python 3",
      "name": "python3"
    },
    "language_info": {
      "name": "python"
    }
  },
  "nbformat": 4,
  "nbformat_minor": 0
}